{
  "cells": [
    {
      "cell_type": "code",
      "execution_count": 111,
      "metadata": {
        "id": "2AEu-9bri_cE"
      },
      "outputs": [],
      "source": [
        "import pandas as pd\n",
        "import numpy as np\n",
        "import string\n",
        "import tensorflow as tf\n",
        "import matplotlib.pyplot as plt\n",
        "import time\n",
        "import random\n",
        "import requests\n",
        "import io\n",
        "from collections import defaultdict\n",
        "from itertools import product\n",
        "\n",
        "from tensorflow.keras.preprocessing.sequence import pad_sequences\n",
        "from tensorflow.keras.models import Model\n",
        "from tensorflow.keras.layers import Input, Embedding, Flatten, Dense, Dropout, Concatenate, BatchNormalization\n",
        "from tensorflow.keras.preprocessing.sequence import pad_sequences\n",
        "from tensorflow.keras.optimizers import Adam\n",
        "\n",
        "from sklearn.preprocessing import OneHotEncoder, MinMaxScaler, StandardScaler\n",
        "from sklearn.model_selection import train_test_split\n",
        "from sklearn.metrics import classification_report, confusion_matrix, mean_squared_error, mean_absolute_error\n",
        "from sklearn.model_selection import StratifiedKFold"
      ]
    },
    {
      "cell_type": "markdown",
      "metadata": {
        "id": "6fVUhWJFN2UD"
      },
      "source": [
        "# Loading the data\n"
      ]
    },
    {
      "cell_type": "code",
      "execution_count": 112,
      "metadata": {
        "id": "4EiAo3vWwdNs"
      },
      "outputs": [],
      "source": [
        "url = 'https://raw.githubusercontent.com/Aero-Sol/Deep-Learning-Exam/main/input_data.pkl'\n",
        "response = requests.get(url)\n",
        "data = pd.read_pickle(io.BytesIO(response.content))"
      ]
    },
    {
      "cell_type": "code",
      "execution_count": 113,
      "metadata": {
        "colab": {
          "base_uri": "https://localhost:8080/"
        },
        "id": "hodbqUG7pOTv",
        "outputId": "2645555d-f90a-4259-d15c-3cf986b092c5"
      },
      "outputs": [
        {
          "data": {
            "text/plain": [
              "(13772, 10)"
            ]
          },
          "execution_count": 113,
          "metadata": {},
          "output_type": "execute_result"
        }
      ],
      "source": [
        "data.shape"
      ]
    },
    {
      "cell_type": "code",
      "execution_count": 114,
      "metadata": {
        "colab": {
          "base_uri": "https://localhost:8080/",
          "height": 414
        },
        "id": "rPrN15YHyH3Z",
        "outputId": "a9fa5be2-0b2f-4be4-8868-5405493ecf13"
      },
      "outputs": [
        {
          "data": {
            "application/vnd.google.colaboratory.intrinsic+json": {
              "summary": "{\n  \"name\": \"data\",\n  \"rows\": 13772,\n  \"fields\": [\n    {\n      \"column\": \"Hotel_Address\",\n      \"properties\": {\n        \"dtype\": \"category\",\n        \"num_unique_values\": 1367,\n        \"samples\": [\n          \"Avenida Avenida Diagonal 201 Sant Mart 08018 Barcelona Spain\",\n          \"Singerstra Singerstra e 3 01 Innere Stadt 1010 Vienna Austria\",\n          \"14 14 16 Craven Hill Lancaster Gate Westminster Borough London W2 3DU UK\"\n        ],\n        \"semantic_type\": \"\",\n        \"description\": \"\"\n      }\n    },\n    {\n      \"column\": \"Review_Date\",\n      \"properties\": {\n        \"dtype\": \"object\",\n        \"num_unique_values\": 730,\n        \"samples\": [\n          \"4/26/2017\",\n          \"11/11/2016\",\n          \"5/20/2016\"\n        ],\n        \"semantic_type\": \"\",\n        \"description\": \"\"\n      }\n    },\n    {\n      \"column\": \"Average_Score\",\n      \"properties\": {\n        \"dtype\": \"number\",\n        \"std\": 0.5828092400191714,\n        \"min\": 5.2,\n        \"max\": 9.6,\n        \"num_unique_values\": 33,\n        \"samples\": [\n          5.2,\n          8.8,\n          6.8\n        ],\n        \"semantic_type\": \"\",\n        \"description\": \"\"\n      }\n    },\n    {\n      \"column\": \"Hotel_Name\",\n      \"properties\": {\n        \"dtype\": \"category\",\n        \"num_unique_values\": 1366,\n        \"samples\": [\n          \"The Guesthouse Vienna\",\n          \"Chambiges Elys es\",\n          \"La Suite West Hyde Park\"\n        ],\n        \"semantic_type\": \"\",\n        \"description\": \"\"\n      }\n    },\n    {\n      \"column\": \"Reviewer_Nationality\",\n      \"properties\": {\n        \"dtype\": \"category\",\n        \"num_unique_values\": 148,\n        \"samples\": [\n          \" Moldova \",\n          \" Jersey \",\n          \" Rwanda \"\n        ],\n        \"semantic_type\": \"\",\n        \"description\": \"\"\n      }\n    },\n    {\n      \"column\": \"Hotel_number_reviews\",\n      \"properties\": {\n        \"dtype\": \"number\",\n        \"std\": 2388,\n        \"min\": 43,\n        \"max\": 16670,\n        \"num_unique_values\": 1085,\n        \"samples\": [\n          1744,\n          1018,\n          851\n        ],\n        \"semantic_type\": \"\",\n        \"description\": \"\"\n      }\n    },\n    {\n      \"column\": \"Reviewer_number_reviews\",\n      \"properties\": {\n        \"dtype\": \"number\",\n        \"std\": 10,\n        \"min\": 1,\n        \"max\": 211,\n        \"num_unique_values\": 94,\n        \"samples\": [\n          31,\n          17,\n          56\n        ],\n        \"semantic_type\": \"\",\n        \"description\": \"\"\n      }\n    },\n    {\n      \"column\": \"Review_Score\",\n      \"properties\": {\n        \"dtype\": \"number\",\n        \"std\": 2.059654194003901,\n        \"min\": 2.5,\n        \"max\": 10.0,\n        \"num_unique_values\": 34,\n        \"samples\": [\n          5.5,\n          6.9,\n          7.5\n        ],\n        \"semantic_type\": \"\",\n        \"description\": \"\"\n      }\n    },\n    {\n      \"column\": \"Review\",\n      \"properties\": {\n        \"dtype\": \"string\",\n        \"num_unique_values\": 13076,\n        \"samples\": [\n          \" Clean smart\",\n          \" nothing great location\",\n          \" The design of the room the comfort\"\n        ],\n        \"semantic_type\": \"\",\n        \"description\": \"\"\n      }\n    },\n    {\n      \"column\": \"Review_Type\",\n      \"properties\": {\n        \"dtype\": \"category\",\n        \"num_unique_values\": 2,\n        \"samples\": [\n          \"Good_review\",\n          \"Bad_review\"\n        ],\n        \"semantic_type\": \"\",\n        \"description\": \"\"\n      }\n    }\n  ]\n}",
              "type": "dataframe",
              "variable_name": "data"
            },
            "text/html": [
              "\n",
              "  <div id=\"df-1389a40d-47be-48b7-82ae-6ce761855e08\" class=\"colab-df-container\">\n",
              "    <div>\n",
              "<style scoped>\n",
              "    .dataframe tbody tr th:only-of-type {\n",
              "        vertical-align: middle;\n",
              "    }\n",
              "\n",
              "    .dataframe tbody tr th {\n",
              "        vertical-align: top;\n",
              "    }\n",
              "\n",
              "    .dataframe thead th {\n",
              "        text-align: right;\n",
              "    }\n",
              "</style>\n",
              "<table border=\"1\" class=\"dataframe\">\n",
              "  <thead>\n",
              "    <tr style=\"text-align: right;\">\n",
              "      <th></th>\n",
              "      <th>Hotel_Address</th>\n",
              "      <th>Review_Date</th>\n",
              "      <th>Average_Score</th>\n",
              "      <th>Hotel_Name</th>\n",
              "      <th>Reviewer_Nationality</th>\n",
              "      <th>Hotel_number_reviews</th>\n",
              "      <th>Reviewer_number_reviews</th>\n",
              "      <th>Review_Score</th>\n",
              "      <th>Review</th>\n",
              "      <th>Review_Type</th>\n",
              "    </tr>\n",
              "  </thead>\n",
              "  <tbody>\n",
              "    <tr>\n",
              "      <th>88526</th>\n",
              "      <td>Scarsdale Scarsdale Place Kensington Kensingto...</td>\n",
              "      <td>5/2/2017</td>\n",
              "      <td>8.1</td>\n",
              "      <td>Copthorne Tara Hotel London Kensington</td>\n",
              "      <td>United Kingdom</td>\n",
              "      <td>7105</td>\n",
              "      <td>2</td>\n",
              "      <td>6.7</td>\n",
              "      <td>Expensive room rate that didn t include parki...</td>\n",
              "      <td>Bad_review</td>\n",
              "    </tr>\n",
              "    <tr>\n",
              "      <th>42019</th>\n",
              "      <td>53 53 59 Kilburn High Road Maida Vale London C...</td>\n",
              "      <td>8/4/2016</td>\n",
              "      <td>7.1</td>\n",
              "      <td>BEST WESTERN Maitrise Hotel Maida Vale</td>\n",
              "      <td>United Kingdom</td>\n",
              "      <td>1877</td>\n",
              "      <td>8</td>\n",
              "      <td>5.8</td>\n",
              "      <td>Bedroom in the basement No windows Very small...</td>\n",
              "      <td>Bad_review</td>\n",
              "    </tr>\n",
              "    <tr>\n",
              "      <th>80574</th>\n",
              "      <td>Pelai Pelai 28 Ciutat Vella 08002 Barcelona Spain</td>\n",
              "      <td>11/17/2016</td>\n",
              "      <td>8.6</td>\n",
              "      <td>Catalonia Ramblas 4 Sup</td>\n",
              "      <td>United Kingdom</td>\n",
              "      <td>4276</td>\n",
              "      <td>2</td>\n",
              "      <td>6.3</td>\n",
              "      <td>Room ready for a makeover Location</td>\n",
              "      <td>Bad_review</td>\n",
              "    </tr>\n",
              "    <tr>\n",
              "      <th>27131</th>\n",
              "      <td>3 3 Place du G n ral Koenig 17th arr 75017 Par...</td>\n",
              "      <td>2/4/2016</td>\n",
              "      <td>7.1</td>\n",
              "      <td>Hyatt Regency Paris Etoile</td>\n",
              "      <td>United Kingdom</td>\n",
              "      <td>3973</td>\n",
              "      <td>3</td>\n",
              "      <td>5.8</td>\n",
              "      <td>Firstly the lady at the check in desk was qui...</td>\n",
              "      <td>Bad_review</td>\n",
              "    </tr>\n",
              "    <tr>\n",
              "      <th>63857</th>\n",
              "      <td>Epping Epping Forest 30 Oak Hill London IG8 9N...</td>\n",
              "      <td>7/27/2016</td>\n",
              "      <td>7.5</td>\n",
              "      <td>Best Western PLUS Epping Forest</td>\n",
              "      <td>United Kingdom</td>\n",
              "      <td>587</td>\n",
              "      <td>7</td>\n",
              "      <td>3.3</td>\n",
              "      <td>Not being able to park my vehicle due to the ...</td>\n",
              "      <td>Bad_review</td>\n",
              "    </tr>\n",
              "  </tbody>\n",
              "</table>\n",
              "</div>\n",
              "    <div class=\"colab-df-buttons\">\n",
              "\n",
              "  <div class=\"colab-df-container\">\n",
              "    <button class=\"colab-df-convert\" onclick=\"convertToInteractive('df-1389a40d-47be-48b7-82ae-6ce761855e08')\"\n",
              "            title=\"Convert this dataframe to an interactive table.\"\n",
              "            style=\"display:none;\">\n",
              "\n",
              "  <svg xmlns=\"http://www.w3.org/2000/svg\" height=\"24px\" viewBox=\"0 -960 960 960\">\n",
              "    <path d=\"M120-120v-720h720v720H120Zm60-500h600v-160H180v160Zm220 220h160v-160H400v160Zm0 220h160v-160H400v160ZM180-400h160v-160H180v160Zm440 0h160v-160H620v160ZM180-180h160v-160H180v160Zm440 0h160v-160H620v160Z\"/>\n",
              "  </svg>\n",
              "    </button>\n",
              "\n",
              "  <style>\n",
              "    .colab-df-container {\n",
              "      display:flex;\n",
              "      gap: 12px;\n",
              "    }\n",
              "\n",
              "    .colab-df-convert {\n",
              "      background-color: #E8F0FE;\n",
              "      border: none;\n",
              "      border-radius: 50%;\n",
              "      cursor: pointer;\n",
              "      display: none;\n",
              "      fill: #1967D2;\n",
              "      height: 32px;\n",
              "      padding: 0 0 0 0;\n",
              "      width: 32px;\n",
              "    }\n",
              "\n",
              "    .colab-df-convert:hover {\n",
              "      background-color: #E2EBFA;\n",
              "      box-shadow: 0px 1px 2px rgba(60, 64, 67, 0.3), 0px 1px 3px 1px rgba(60, 64, 67, 0.15);\n",
              "      fill: #174EA6;\n",
              "    }\n",
              "\n",
              "    .colab-df-buttons div {\n",
              "      margin-bottom: 4px;\n",
              "    }\n",
              "\n",
              "    [theme=dark] .colab-df-convert {\n",
              "      background-color: #3B4455;\n",
              "      fill: #D2E3FC;\n",
              "    }\n",
              "\n",
              "    [theme=dark] .colab-df-convert:hover {\n",
              "      background-color: #434B5C;\n",
              "      box-shadow: 0px 1px 3px 1px rgba(0, 0, 0, 0.15);\n",
              "      filter: drop-shadow(0px 1px 2px rgba(0, 0, 0, 0.3));\n",
              "      fill: #FFFFFF;\n",
              "    }\n",
              "  </style>\n",
              "\n",
              "    <script>\n",
              "      const buttonEl =\n",
              "        document.querySelector('#df-1389a40d-47be-48b7-82ae-6ce761855e08 button.colab-df-convert');\n",
              "      buttonEl.style.display =\n",
              "        google.colab.kernel.accessAllowed ? 'block' : 'none';\n",
              "\n",
              "      async function convertToInteractive(key) {\n",
              "        const element = document.querySelector('#df-1389a40d-47be-48b7-82ae-6ce761855e08');\n",
              "        const dataTable =\n",
              "          await google.colab.kernel.invokeFunction('convertToInteractive',\n",
              "                                                    [key], {});\n",
              "        if (!dataTable) return;\n",
              "\n",
              "        const docLinkHtml = 'Like what you see? Visit the ' +\n",
              "          '<a target=\"_blank\" href=https://colab.research.google.com/notebooks/data_table.ipynb>data table notebook</a>'\n",
              "          + ' to learn more about interactive tables.';\n",
              "        element.innerHTML = '';\n",
              "        dataTable['output_type'] = 'display_data';\n",
              "        await google.colab.output.renderOutput(dataTable, element);\n",
              "        const docLink = document.createElement('div');\n",
              "        docLink.innerHTML = docLinkHtml;\n",
              "        element.appendChild(docLink);\n",
              "      }\n",
              "    </script>\n",
              "  </div>\n",
              "\n",
              "\n",
              "    <div id=\"df-8b0da105-3753-4b66-bac7-c8722945572a\">\n",
              "      <button class=\"colab-df-quickchart\" onclick=\"quickchart('df-8b0da105-3753-4b66-bac7-c8722945572a')\"\n",
              "                title=\"Suggest charts\"\n",
              "                style=\"display:none;\">\n",
              "\n",
              "<svg xmlns=\"http://www.w3.org/2000/svg\" height=\"24px\"viewBox=\"0 0 24 24\"\n",
              "     width=\"24px\">\n",
              "    <g>\n",
              "        <path d=\"M19 3H5c-1.1 0-2 .9-2 2v14c0 1.1.9 2 2 2h14c1.1 0 2-.9 2-2V5c0-1.1-.9-2-2-2zM9 17H7v-7h2v7zm4 0h-2V7h2v10zm4 0h-2v-4h2v4z\"/>\n",
              "    </g>\n",
              "</svg>\n",
              "      </button>\n",
              "\n",
              "<style>\n",
              "  .colab-df-quickchart {\n",
              "      --bg-color: #E8F0FE;\n",
              "      --fill-color: #1967D2;\n",
              "      --hover-bg-color: #E2EBFA;\n",
              "      --hover-fill-color: #174EA6;\n",
              "      --disabled-fill-color: #AAA;\n",
              "      --disabled-bg-color: #DDD;\n",
              "  }\n",
              "\n",
              "  [theme=dark] .colab-df-quickchart {\n",
              "      --bg-color: #3B4455;\n",
              "      --fill-color: #D2E3FC;\n",
              "      --hover-bg-color: #434B5C;\n",
              "      --hover-fill-color: #FFFFFF;\n",
              "      --disabled-bg-color: #3B4455;\n",
              "      --disabled-fill-color: #666;\n",
              "  }\n",
              "\n",
              "  .colab-df-quickchart {\n",
              "    background-color: var(--bg-color);\n",
              "    border: none;\n",
              "    border-radius: 50%;\n",
              "    cursor: pointer;\n",
              "    display: none;\n",
              "    fill: var(--fill-color);\n",
              "    height: 32px;\n",
              "    padding: 0;\n",
              "    width: 32px;\n",
              "  }\n",
              "\n",
              "  .colab-df-quickchart:hover {\n",
              "    background-color: var(--hover-bg-color);\n",
              "    box-shadow: 0 1px 2px rgba(60, 64, 67, 0.3), 0 1px 3px 1px rgba(60, 64, 67, 0.15);\n",
              "    fill: var(--button-hover-fill-color);\n",
              "  }\n",
              "\n",
              "  .colab-df-quickchart-complete:disabled,\n",
              "  .colab-df-quickchart-complete:disabled:hover {\n",
              "    background-color: var(--disabled-bg-color);\n",
              "    fill: var(--disabled-fill-color);\n",
              "    box-shadow: none;\n",
              "  }\n",
              "\n",
              "  .colab-df-spinner {\n",
              "    border: 2px solid var(--fill-color);\n",
              "    border-color: transparent;\n",
              "    border-bottom-color: var(--fill-color);\n",
              "    animation:\n",
              "      spin 1s steps(1) infinite;\n",
              "  }\n",
              "\n",
              "  @keyframes spin {\n",
              "    0% {\n",
              "      border-color: transparent;\n",
              "      border-bottom-color: var(--fill-color);\n",
              "      border-left-color: var(--fill-color);\n",
              "    }\n",
              "    20% {\n",
              "      border-color: transparent;\n",
              "      border-left-color: var(--fill-color);\n",
              "      border-top-color: var(--fill-color);\n",
              "    }\n",
              "    30% {\n",
              "      border-color: transparent;\n",
              "      border-left-color: var(--fill-color);\n",
              "      border-top-color: var(--fill-color);\n",
              "      border-right-color: var(--fill-color);\n",
              "    }\n",
              "    40% {\n",
              "      border-color: transparent;\n",
              "      border-right-color: var(--fill-color);\n",
              "      border-top-color: var(--fill-color);\n",
              "    }\n",
              "    60% {\n",
              "      border-color: transparent;\n",
              "      border-right-color: var(--fill-color);\n",
              "    }\n",
              "    80% {\n",
              "      border-color: transparent;\n",
              "      border-right-color: var(--fill-color);\n",
              "      border-bottom-color: var(--fill-color);\n",
              "    }\n",
              "    90% {\n",
              "      border-color: transparent;\n",
              "      border-bottom-color: var(--fill-color);\n",
              "    }\n",
              "  }\n",
              "</style>\n",
              "\n",
              "      <script>\n",
              "        async function quickchart(key) {\n",
              "          const quickchartButtonEl =\n",
              "            document.querySelector('#' + key + ' button');\n",
              "          quickchartButtonEl.disabled = true;  // To prevent multiple clicks.\n",
              "          quickchartButtonEl.classList.add('colab-df-spinner');\n",
              "          try {\n",
              "            const charts = await google.colab.kernel.invokeFunction(\n",
              "                'suggestCharts', [key], {});\n",
              "          } catch (error) {\n",
              "            console.error('Error during call to suggestCharts:', error);\n",
              "          }\n",
              "          quickchartButtonEl.classList.remove('colab-df-spinner');\n",
              "          quickchartButtonEl.classList.add('colab-df-quickchart-complete');\n",
              "        }\n",
              "        (() => {\n",
              "          let quickchartButtonEl =\n",
              "            document.querySelector('#df-8b0da105-3753-4b66-bac7-c8722945572a button');\n",
              "          quickchartButtonEl.style.display =\n",
              "            google.colab.kernel.accessAllowed ? 'block' : 'none';\n",
              "        })();\n",
              "      </script>\n",
              "    </div>\n",
              "\n",
              "    </div>\n",
              "  </div>\n"
            ],
            "text/plain": [
              "                                           Hotel_Address Review_Date  \\\n",
              "88526  Scarsdale Scarsdale Place Kensington Kensingto...    5/2/2017   \n",
              "42019  53 53 59 Kilburn High Road Maida Vale London C...    8/4/2016   \n",
              "80574  Pelai Pelai 28 Ciutat Vella 08002 Barcelona Spain  11/17/2016   \n",
              "27131  3 3 Place du G n ral Koenig 17th arr 75017 Par...    2/4/2016   \n",
              "63857  Epping Epping Forest 30 Oak Hill London IG8 9N...   7/27/2016   \n",
              "\n",
              "       Average_Score                              Hotel_Name  \\\n",
              "88526            8.1  Copthorne Tara Hotel London Kensington   \n",
              "42019            7.1  BEST WESTERN Maitrise Hotel Maida Vale   \n",
              "80574            8.6                 Catalonia Ramblas 4 Sup   \n",
              "27131            7.1              Hyatt Regency Paris Etoile   \n",
              "63857            7.5         Best Western PLUS Epping Forest   \n",
              "\n",
              "      Reviewer_Nationality  Hotel_number_reviews  Reviewer_number_reviews  \\\n",
              "88526      United Kingdom                   7105                        2   \n",
              "42019      United Kingdom                   1877                        8   \n",
              "80574      United Kingdom                   4276                        2   \n",
              "27131      United Kingdom                   3973                        3   \n",
              "63857      United Kingdom                    587                        7   \n",
              "\n",
              "       Review_Score                                             Review  \\\n",
              "88526           6.7   Expensive room rate that didn t include parki...   \n",
              "42019           5.8   Bedroom in the basement No windows Very small...   \n",
              "80574           6.3                 Room ready for a makeover Location   \n",
              "27131           5.8   Firstly the lady at the check in desk was qui...   \n",
              "63857           3.3   Not being able to park my vehicle due to the ...   \n",
              "\n",
              "      Review_Type  \n",
              "88526  Bad_review  \n",
              "42019  Bad_review  \n",
              "80574  Bad_review  \n",
              "27131  Bad_review  \n",
              "63857  Bad_review  "
            ]
          },
          "execution_count": 114,
          "metadata": {},
          "output_type": "execute_result"
        }
      ],
      "source": [
        "data.head()"
      ]
    },
    {
      "cell_type": "markdown",
      "metadata": {
        "id": "LkLtF1UInYpG"
      },
      "source": [
        "# Important:\n",
        "Using the full dataframe the total time the notebook takes to run is around 25 minutes. To avoid having long training times only a subset of the full data will be used.\n",
        "Because of this some values dependent on the number of samples will be different than the ones we would get when using the full dataset.\n",
        "For example when talking about the number of samples the value will be 2754, while if we were using the full dataset that would be 13772."
      ]
    },
    {
      "cell_type": "code",
      "execution_count": 115,
      "metadata": {
        "id": "OSoPGCWuoGNw"
      },
      "outputs": [],
      "source": [
        "df = data.sample(frac=0.2, random_state=42).reset_index(drop=True)\n"
      ]
    },
    {
      "cell_type": "code",
      "execution_count": 116,
      "metadata": {
        "colab": {
          "base_uri": "https://localhost:8080/"
        },
        "id": "u4loOcIRoHuQ",
        "outputId": "a5dea1a2-9054-443a-a236-78e9901414b8"
      },
      "outputs": [
        {
          "data": {
            "text/plain": [
              "(2754, 10)"
            ]
          },
          "execution_count": 116,
          "metadata": {},
          "output_type": "execute_result"
        }
      ],
      "source": [
        "df.shape"
      ]
    },
    {
      "cell_type": "markdown",
      "metadata": {
        "id": "I2YWPp60O7P7"
      },
      "source": [
        "# INPUT (2)"
      ]
    },
    {
      "cell_type": "markdown",
      "metadata": {
        "id": "yeYvlWJs4o9B"
      },
      "source": [
        "## (a) Preprocessing"
      ]
    },
    {
      "cell_type": "markdown",
      "metadata": {
        "id": "XPEInnxn4UeC"
      },
      "source": [
        "First we can drop the column 'Average_score' as instructed. We can also drop the 'Hotel_Address' as written in the exam, since it does not add any useful information."
      ]
    },
    {
      "cell_type": "code",
      "execution_count": 117,
      "metadata": {
        "id": "zAZG1sHgb0mh"
      },
      "outputs": [],
      "source": [
        "df.drop(['Average_Score'], axis=1, inplace=True)\n",
        "df.drop(['Hotel_Address'], axis=1, inplace=True)"
      ]
    },
    {
      "cell_type": "markdown",
      "metadata": {
        "id": "YpG5TjtQBY_x"
      },
      "source": [
        "As for the preprocessing, I will first handle the preprocessing of the 'Review' feature, since it is the longest.\n",
        "The initial step is defining a function that cleans the text as explained on the exam."
      ]
    },
    {
      "cell_type": "code",
      "execution_count": 118,
      "metadata": {
        "id": "NCrDo1_8UP_c"
      },
      "outputs": [],
      "source": [
        "def preprocess_text(text):\n",
        "    text = text.replace('--', ' ')  # replace double dashes with space\n",
        "    words = text.split() # split into tokens by white space\n",
        "    table = str.maketrans('', '', string.punctuation) # remove punctuation from each token\n",
        "    words = [w.translate(table) for w in words]\n",
        "    words = [w.lower() for w in words if w.isalpha()] # remove remaining tokens that are not alphabetic\n",
        "    words = [word.lower() for word in words] # make lower case\n",
        "    return words\n",
        "\n",
        "# Apply to 'Review'\n",
        "df['cleaned_review'] = df['Review'].apply(preprocess_text)"
      ]
    },
    {
      "cell_type": "markdown",
      "metadata": {
        "id": "H8sRDt2hB7LN"
      },
      "source": [
        "Then I create a dictionary of unique words, associating an integer to each.\n",
        "After this I pad the resulting sequences to a reasonable lenght."
      ]
    },
    {
      "cell_type": "code",
      "execution_count": 119,
      "metadata": {
        "id": "Wfio8yrs05w3"
      },
      "outputs": [],
      "source": [
        "# Build a dictionary of unique words\n",
        "word_freq = defaultdict(int)\n",
        "for tokens in df['cleaned_review']:\n",
        "    for word in tokens:\n",
        "        word_freq[word] += 1\n",
        "\n",
        "word2idx = {word: idx + 1 for idx, word in enumerate(sorted(word_freq))}  # Reserve 0 for padding\n"
      ]
    },
    {
      "cell_type": "code",
      "execution_count": 120,
      "metadata": {
        "colab": {
          "base_uri": "https://localhost:8080/"
        },
        "id": "_Ex7IInfCvsr",
        "outputId": "8ee9a73f-a5c7-4859-9f1b-c8b459316bed"
      },
      "outputs": [
        {
          "name": "stdout",
          "output_type": "stream",
          "text": [
            "90th percentile: 366.8000000000011\n",
            "mean: 139.44589687726943\n"
          ]
        }
      ],
      "source": [
        "# calculating the 90th percentile\n",
        "percentile = np.percentile(df['Review'].str.len(), 90)\n",
        "mean = np.mean(df['Review'].str.len())\n",
        "print(f\"90th percentile: {percentile}\")\n",
        "print(f\"mean: {mean}\")"
      ]
    },
    {
      "cell_type": "markdown",
      "metadata": {
        "id": "uB5rnayyDXrA"
      },
      "source": [
        "Due to the mean being substantially smaller than the 90th percentile I will pad the sequences at 200, which seems to be the most efficient option."
      ]
    },
    {
      "cell_type": "code",
      "execution_count": 121,
      "metadata": {
        "id": "x0Uaxyky88_J"
      },
      "outputs": [],
      "source": [
        "# Convert tokens to integer sequences and pad\n",
        "df['review_sequence'] = df['cleaned_review'].apply(lambda tokens: [word2idx[word] for word in tokens])\n",
        "MAX_SEQUENCE_LENGTH = 200\n",
        "df['padded_sequence'] = pad_sequences(df['review_sequence'], maxlen=MAX_SEQUENCE_LENGTH, padding='post', truncating='post').tolist()"
      ]
    },
    {
      "cell_type": "markdown",
      "metadata": {
        "id": "Ig7ZV2jVQmt7"
      },
      "source": [
        "Let's see how many integers have been assigned in total:"
      ]
    },
    {
      "cell_type": "code",
      "execution_count": 122,
      "metadata": {
        "colab": {
          "base_uri": "https://localhost:8080/"
        },
        "id": "U-A6pIU7QdAh",
        "outputId": "2482d244-aa16-4bb3-e1d2-d7f63c7ce84a"
      },
      "outputs": [
        {
          "data": {
            "text/plain": [
              "5194"
            ]
          },
          "execution_count": 122,
          "metadata": {},
          "output_type": "execute_result"
        }
      ],
      "source": [
        "dict_size = len(word2idx) + 1\n",
        "dict_size"
      ]
    },
    {
      "cell_type": "markdown",
      "metadata": {
        "id": "CoDakL0_lqmv"
      },
      "source": [
        "The +1 is the extra 0, used for padding, besides it \\we have a total of 5193 unique integers."
      ]
    },
    {
      "cell_type": "markdown",
      "metadata": {
        "id": "0NzTMLfHErlb"
      },
      "source": [
        "Now we preprocess the 'Review_Date' feature. First we convert the column from string to datetime object, and then scale each value chronologically."
      ]
    },
    {
      "cell_type": "code",
      "execution_count": 123,
      "metadata": {
        "id": "skapZBh3sklk"
      },
      "outputs": [],
      "source": [
        "# Convert Review_Date to datetime and scale chronologically\n",
        "df['Review_Date'] = pd.to_datetime(df['Review_Date'], format='%m/%d/%Y')\n",
        "df['review_time_scaled'] = (df['Review_Date'] - df['Review_Date'].min()) / (df['Review_Date'].max() - df['Review_Date'].min())"
      ]
    },
    {
      "cell_type": "markdown",
      "metadata": {
        "id": "OrgXwY8kGAaS"
      },
      "source": [
        "Now we can preprocess the rest of the values. They will be divided in 2 groups based on if they are categorical or numerical.\n",
        "For categorical features ('Hotel_Name', 'Reviewer_Nationality') we one-hot encode them, while the numerical features ('Hotel_number_reviews', 'Reviewer_number_reviews') will be scaled with a minmaxscaler, to have a float value between 0 and 1. The feature 'review_time_scaled' will be added to the numerical ones, since it also consists of a value between 0 and 1.\n",
        "At the end we an concatenate both groups in an unique array, called 'structured_features'."
      ]
    },
    {
      "cell_type": "code",
      "execution_count": 124,
      "metadata": {
        "id": "xnD1XK7Edzyw"
      },
      "outputs": [],
      "source": [
        "# One-hot encode categorical features\n",
        "categorical_features = ['Hotel_Name', 'Reviewer_Nationality']\n",
        "ohe = OneHotEncoder(sparse_output=False, handle_unknown='ignore')\n",
        "categorical_encoded = ohe.fit_transform(df[categorical_features])\n",
        "\n",
        "# Scale numerical features\n",
        "numerical_features = ['Hotel_number_reviews', 'Reviewer_number_reviews']\n",
        "scaler = MinMaxScaler()\n",
        "numerical_scaled = scaler.fit_transform(df[numerical_features])\n",
        "review_time_array = df[['review_time_scaled']].values\n",
        "numerical_scaled = np.hstack([numerical_scaled, review_time_array])\n",
        "\n",
        "# Concatenate structured features\n",
        "structured_features = np.hstack([categorical_encoded, numerical_scaled])"
      ]
    },
    {
      "cell_type": "code",
      "execution_count": 125,
      "metadata": {
        "colab": {
          "base_uri": "https://localhost:8080/"
        },
        "id": "6uydfwc-fuDf",
        "outputId": "c8db84e6-b685-4731-c5d8-0a572d3f3588"
      },
      "outputs": [
        {
          "data": {
            "text/plain": [
              "array([[0.        , 0.        , 0.        , ..., 0.12481185, 0.        ,\n",
              "        0.86575342],\n",
              "       [0.        , 0.        , 0.        , ..., 0.21361912, 0.04895105,\n",
              "        0.42739726],\n",
              "       [0.        , 0.        , 0.        , ..., 0.09266061, 0.        ,\n",
              "        0.21643836],\n",
              "       ...,\n",
              "       [0.        , 0.        , 0.        , ..., 0.10897706, 0.        ,\n",
              "        0.70958904],\n",
              "       [0.        , 0.        , 0.        , ..., 0.13480643, 0.06993007,\n",
              "        0.00958904],\n",
              "       [0.        , 0.        , 0.        , ..., 0.03335541, 0.04195804,\n",
              "        0.2630137 ]])"
            ]
          },
          "execution_count": 125,
          "metadata": {},
          "output_type": "execute_result"
        }
      ],
      "source": [
        "structured_features"
      ]
    },
    {
      "cell_type": "markdown",
      "metadata": {
        "id": "5qiMkOzQOe4K"
      },
      "source": [
        "## (b) Input of the model"
      ]
    },
    {
      "cell_type": "markdown",
      "metadata": {
        "id": "8Z8t0_06PJ8z"
      },
      "source": [
        "### Structured features"
      ]
    },
    {
      "cell_type": "markdown",
      "metadata": {
        "id": "VzfmtvbTH6LA"
      },
      "source": [
        "Let's check if the shape of the array does have sense:\n",
        "Its lenght should be composed of a 3 singular values (one for each numerical feature) summed with the unique values of the categorical features."
      ]
    },
    {
      "cell_type": "code",
      "execution_count": 126,
      "metadata": {
        "colab": {
          "base_uri": "https://localhost:8080/"
        },
        "id": "6DZNlNUhIfTb",
        "outputId": "2ca5328e-b163-4ed8-96eb-fd3329d589a3"
      },
      "outputs": [
        {
          "name": "stdout",
          "output_type": "stream",
          "text": [
            "Number of unique values for column 'Hotel_Name': 894\n",
            "--------------------\n",
            "Number of unique values for column 'Reviewer_Nationality': 106\n",
            "--------------------\n"
          ]
        }
      ],
      "source": [
        "for column in categorical_features:\n",
        "    print(f\"Number of unique values for column '{column}': {df[column].nunique()}\")\n",
        "    print(\"-\" * 20)"
      ]
    },
    {
      "cell_type": "markdown",
      "metadata": {
        "id": "98NEYoGnImYk"
      },
      "source": [
        "Thus the array shoud have a shape = ( num_samples, 894 + 106 + 3 ) = (2754, 1003). Let's see if it's true:"
      ]
    },
    {
      "cell_type": "code",
      "execution_count": 127,
      "metadata": {
        "colab": {
          "base_uri": "https://localhost:8080/"
        },
        "id": "qR_GZEAuxeNn",
        "outputId": "7d49a62d-65e8-46f6-9293-c39b2ba7d1ff"
      },
      "outputs": [
        {
          "data": {
            "text/plain": [
              "(2754, 1003)"
            ]
          },
          "execution_count": 127,
          "metadata": {},
          "output_type": "execute_result"
        }
      ],
      "source": [
        "structured_features.shape"
      ]
    },
    {
      "cell_type": "markdown",
      "metadata": {
        "id": "usVnxkavO5v5"
      },
      "source": [
        "The value domain of the input is [0, 1]"
      ]
    },
    {
      "cell_type": "markdown",
      "metadata": {
        "id": "750AVjT-PpRn"
      },
      "source": [
        "### Review"
      ]
    },
    {
      "cell_type": "markdown",
      "metadata": {
        "id": "NjnBDFTcPtY-"
      },
      "source": [
        "After preprocessing, each review is transformed into a fixed lenght sequence of integers.\n",
        "Thus the shape of this will be (2754, 200), since we defined 200 as the sequence lenght. The integers will have a value domain equal to  dict_size = [0, 5193], since there are a total of 5194 unique values."
      ]
    },
    {
      "cell_type": "markdown",
      "metadata": {
        "id": "ke3H7kDh6Gpn"
      },
      "source": [
        "## Preparing the dataset"
      ]
    },
    {
      "cell_type": "code",
      "execution_count": 128,
      "metadata": {
        "id": "g9TM-X6SAGKE"
      },
      "outputs": [],
      "source": [
        "# Inputs\n",
        "X_text = np.array(df['padded_sequence'].tolist())\n",
        "X_struct = structured_features\n",
        "\n",
        "# Targets\n",
        "y_type = (df['Review_Type'] == 'Good_review').astype(int).values\n",
        "y_type = np.array(y_type)\n",
        "score_min = 2.5\n",
        "score_max = 10.0\n",
        "y_score = (df['Review_Score'] - score_min) / (score_max - score_min)\n",
        "y_score = np.array(y_score)"
      ]
    },
    {
      "cell_type": "markdown",
      "metadata": {
        "id": "zA4H30RmPJ4Z"
      },
      "source": [
        "Splitting the dataset:"
      ]
    },
    {
      "cell_type": "code",
      "execution_count": 129,
      "metadata": {
        "id": "yVatgAzmS0J-"
      },
      "outputs": [],
      "source": [
        "X_text_train_full, X_text_test, X_struct_train_full, X_struct_test, y_type_train_full, y_type_test, y_score_train_full, y_score_test = train_test_split(\n",
        "    X_text, X_struct, y_type, y_score, test_size=0.2, random_state=42\n",
        ")\n"
      ]
    },
    {
      "cell_type": "markdown",
      "metadata": {
        "id": "k94eWZSXneP0"
      },
      "source": [
        "# MODEL, OUTPUT, LOSS and MODEL CONFIGURATION (1, 3, 4, 5)"
      ]
    },
    {
      "cell_type": "markdown",
      "metadata": {
        "id": "C0q0e_wMncLB"
      },
      "source": [
        "The model used will be a multi-layer perceptron, with multiple inputs and multiple outputs.\n",
        "There will be 2 inputs: for the text input the encoded array of shape (2754, 200), with values in the domain [0, 5193], is passed through an Embedding layer, transforming each review into a dense matrix of shape (200, 50), with 50 the value of the embedding dimension, where each token is represented by a real-valued vector.\n",
        "The resulting matrix is then flattened into a single vector and concatenated with the structured input features to be used as input to the MLP.\n",
        "\n"
      ]
    },
    {
      "cell_type": "markdown",
      "metadata": {
        "id": "V-tPetS1qGz4"
      },
      "source": [
        "## Output\n",
        "As written in the exam there will be 2 outputs:\n",
        "\n",
        "\n",
        "*   Review_score : regression task, it will be a dense layer with a singular unit using a sigmoid activation function. To do this the target review scores are scaled to the range [0, 1] before training. Predictions are later rescaled back to their original possible values range [2.5, 10].\n",
        "*   Review_type : binary classification task, it will also be a dense layer with only one unit, using a sigmoid activation function with a threshold = 0.5. To make this work I first will have to transoform the 2 possible output labels to binary, with *bad_review* = 0 and *good_review* = 1.\n",
        "\n"
      ]
    },
    {
      "cell_type": "markdown",
      "metadata": {
        "id": "TlgebQsltMls"
      },
      "source": [
        "## Loss\n",
        "Since we have 2 outputs, we will also have 2 loss functions:\n",
        "\n",
        "\n",
        "*   Mean Squared Error for Review_score, since it is a regression task.\n",
        "*   Binary Cross Entropy for Review_type, due to it being a binary classification.\n",
        "\n"
      ]
    },
    {
      "cell_type": "markdown",
      "metadata": {
        "id": "G17aTB6muL7n"
      },
      "source": [
        "## Model Configuration\n",
        "### Layers"
      ]
    },
    {
      "cell_type": "markdown",
      "metadata": {
        "id": "sV-Q0LgON4FO"
      },
      "source": [
        "Using the padded sequence as the first input (X_text) and the array of structured features as the second (X_struct).\n",
        "The first output will be the review type (y_type) with the 2 possible values encoded as integers (0 and 1), while the second will be the scaled version of the review score (y_score) using as min and max the respective possible values of the review (2.5 and 10)."
      ]
    },
    {
      "cell_type": "markdown",
      "metadata": {
        "id": "sqCeTofFPVME"
      },
      "source": [
        "Now it's time to  create a function that represents the model, that then will be called during the hyperparameter optimization phase to see which values have the best score."
      ]
    },
    {
      "cell_type": "code",
      "execution_count": null,
      "metadata": {
        "id": "wgjlh-GX8FFt"
      },
      "outputs": [],
      "source": [
        "def build_model( learning_rate= 0.001, dropout_rate=0.5, num_dense_layers=1):\n",
        "    text_input = Input(shape=(MAX_SEQUENCE_LENGTH,), name='text_input')\n",
        "    struct_input = Input(shape=(X_struct.shape[1],), name='struct_input')\n",
        "\n",
        "    x = Embedding(input_dim=dict_size, output_dim=50)(text_input)\n",
        "    x = Flatten()(x)   # Embedding and then flattening the text input\n",
        "\n",
        "    combined = Concatenate()([x, struct_input]) # Concatenating the 2 inputs into an unique vector\n",
        "\n",
        "    for _ in range(num_dense_layers):                                     # The number of layers changes with the hyperparameter Num_dense_layers,\n",
        "        combined = Dense(64, kernel_initializer='he_uniform')(combined)   # where each will have 64 units, with He_uniform inizialization,\n",
        "        combined = BatchNormalization()(combined)                         # a batch normalization bfeore the activation function (relu) and then a dropout\n",
        "        combined = tf.keras.layers.Activation('relu')(combined)\n",
        "        combined = Dropout(dropout_rate)(combined)\n",
        "\n",
        "    out1 = Dense(1, activation='sigmoid', name='review_type')(combined) # Output for the review type\n",
        "    out2 = Dense(1, activation='sigmoid', name='review_score')(combined) # Output for the review score\n",
        "\n",
        "    model = tf.keras.Model(inputs=[text_input, struct_input], outputs=[out1, out2])   # Defining the model\n",
        "    optimizer = Adam(learning_rate=learning_rate)   # Adam is used as the optimizer, with the learning rate as an hyperparameter\n",
        "    model.compile(\n",
        "        optimizer=optimizer,\n",
        "        loss={'review_type': 'binary_crossentropy', 'review_score': 'mse'},   # Binary cross entropy for the binary classification, MSE for the regression\n",
        "        loss_weights={'review_type': 0.5, 'review_score': 0.5},\n",
        "        metrics={'review_type': 'accuracy', 'review_score': 'mse'}    # Metrics to evaluate the model\n",
        "    )\n",
        "    return model\n"
      ]
    },
    {
      "cell_type": "code",
      "execution_count": null,
      "metadata": {
        "colab": {
          "base_uri": "https://localhost:8080/",
          "height": 625
        },
        "id": "Lqi4_xoz0VzG",
        "outputId": "47c74bdf-fbf2-4616-b7c1-b2361d489264"
      },
      "outputs": [
        {
          "data": {
            "text/html": [
              "<pre style=\"white-space:pre;overflow-x:auto;line-height:normal;font-family:Menlo,'DejaVu Sans Mono',consolas,'Courier New',monospace\"><span style=\"font-weight: bold\">Model: \"functional_119\"</span>\n",
              "</pre>\n"
            ],
            "text/plain": [
              "\u001b[1mModel: \"functional_119\"\u001b[0m\n"
            ]
          },
          "metadata": {},
          "output_type": "display_data"
        },
        {
          "data": {
            "text/html": [
              "<pre style=\"white-space:pre;overflow-x:auto;line-height:normal;font-family:Menlo,'DejaVu Sans Mono',consolas,'Courier New',monospace\">┏━━━━━━━━━━━━━━━━━━━━━┳━━━━━━━━━━━━━━━━━━━┳━━━━━━━━━━━━┳━━━━━━━━━━━━━━━━━━━┓\n",
              "┃<span style=\"font-weight: bold\"> Layer (type)        </span>┃<span style=\"font-weight: bold\"> Output Shape      </span>┃<span style=\"font-weight: bold\">    Param # </span>┃<span style=\"font-weight: bold\"> Connected to      </span>┃\n",
              "┡━━━━━━━━━━━━━━━━━━━━━╇━━━━━━━━━━━━━━━━━━━╇━━━━━━━━━━━━╇━━━━━━━━━━━━━━━━━━━┩\n",
              "│ text_input          │ (<span style=\"color: #00d7ff; text-decoration-color: #00d7ff\">None</span>, <span style=\"color: #00af00; text-decoration-color: #00af00\">200</span>)       │          <span style=\"color: #00af00; text-decoration-color: #00af00\">0</span> │ -                 │\n",
              "│ (<span style=\"color: #0087ff; text-decoration-color: #0087ff\">InputLayer</span>)        │                   │            │                   │\n",
              "├─────────────────────┼───────────────────┼────────────┼───────────────────┤\n",
              "│ embedding_119       │ (<span style=\"color: #00d7ff; text-decoration-color: #00d7ff\">None</span>, <span style=\"color: #00af00; text-decoration-color: #00af00\">200</span>, <span style=\"color: #00af00; text-decoration-color: #00af00\">50</span>)   │    <span style=\"color: #00af00; text-decoration-color: #00af00\">259,700</span> │ text_input[<span style=\"color: #00af00; text-decoration-color: #00af00\">0</span>][<span style=\"color: #00af00; text-decoration-color: #00af00\">0</span>]  │\n",
              "│ (<span style=\"color: #0087ff; text-decoration-color: #0087ff\">Embedding</span>)         │                   │            │                   │\n",
              "├─────────────────────┼───────────────────┼────────────┼───────────────────┤\n",
              "│ flatten_119         │ (<span style=\"color: #00d7ff; text-decoration-color: #00d7ff\">None</span>, <span style=\"color: #00af00; text-decoration-color: #00af00\">10000</span>)     │          <span style=\"color: #00af00; text-decoration-color: #00af00\">0</span> │ embedding_119[<span style=\"color: #00af00; text-decoration-color: #00af00\">0</span>]… │\n",
              "│ (<span style=\"color: #0087ff; text-decoration-color: #0087ff\">Flatten</span>)           │                   │            │                   │\n",
              "├─────────────────────┼───────────────────┼────────────┼───────────────────┤\n",
              "│ struct_input        │ (<span style=\"color: #00d7ff; text-decoration-color: #00d7ff\">None</span>, <span style=\"color: #00af00; text-decoration-color: #00af00\">1003</span>)      │          <span style=\"color: #00af00; text-decoration-color: #00af00\">0</span> │ -                 │\n",
              "│ (<span style=\"color: #0087ff; text-decoration-color: #0087ff\">InputLayer</span>)        │                   │            │                   │\n",
              "├─────────────────────┼───────────────────┼────────────┼───────────────────┤\n",
              "│ concatenate_119     │ (<span style=\"color: #00d7ff; text-decoration-color: #00d7ff\">None</span>, <span style=\"color: #00af00; text-decoration-color: #00af00\">11003</span>)     │          <span style=\"color: #00af00; text-decoration-color: #00af00\">0</span> │ flatten_119[<span style=\"color: #00af00; text-decoration-color: #00af00\">0</span>][<span style=\"color: #00af00; text-decoration-color: #00af00\">0</span>… │\n",
              "│ (<span style=\"color: #0087ff; text-decoration-color: #0087ff\">Concatenate</span>)       │                   │            │ struct_input[<span style=\"color: #00af00; text-decoration-color: #00af00\">0</span>][<span style=\"color: #00af00; text-decoration-color: #00af00\">…</span> │\n",
              "├─────────────────────┼───────────────────┼────────────┼───────────────────┤\n",
              "│ dense_174 (<span style=\"color: #0087ff; text-decoration-color: #0087ff\">Dense</span>)   │ (<span style=\"color: #00d7ff; text-decoration-color: #00d7ff\">None</span>, <span style=\"color: #00af00; text-decoration-color: #00af00\">64</span>)        │    <span style=\"color: #00af00; text-decoration-color: #00af00\">704,256</span> │ concatenate_119[<span style=\"color: #00af00; text-decoration-color: #00af00\">…</span> │\n",
              "├─────────────────────┼───────────────────┼────────────┼───────────────────┤\n",
              "│ batch_normalizatio… │ (<span style=\"color: #00d7ff; text-decoration-color: #00d7ff\">None</span>, <span style=\"color: #00af00; text-decoration-color: #00af00\">64</span>)        │        <span style=\"color: #00af00; text-decoration-color: #00af00\">256</span> │ dense_174[<span style=\"color: #00af00; text-decoration-color: #00af00\">0</span>][<span style=\"color: #00af00; text-decoration-color: #00af00\">0</span>]   │\n",
              "│ (<span style=\"color: #0087ff; text-decoration-color: #0087ff\">BatchNormalizatio…</span> │                   │            │                   │\n",
              "├─────────────────────┼───────────────────┼────────────┼───────────────────┤\n",
              "│ activation_174      │ (<span style=\"color: #00d7ff; text-decoration-color: #00d7ff\">None</span>, <span style=\"color: #00af00; text-decoration-color: #00af00\">64</span>)        │          <span style=\"color: #00af00; text-decoration-color: #00af00\">0</span> │ batch_normalizat… │\n",
              "│ (<span style=\"color: #0087ff; text-decoration-color: #0087ff\">Activation</span>)        │                   │            │                   │\n",
              "├─────────────────────┼───────────────────┼────────────┼───────────────────┤\n",
              "│ dropout_174         │ (<span style=\"color: #00d7ff; text-decoration-color: #00d7ff\">None</span>, <span style=\"color: #00af00; text-decoration-color: #00af00\">64</span>)        │          <span style=\"color: #00af00; text-decoration-color: #00af00\">0</span> │ activation_174[<span style=\"color: #00af00; text-decoration-color: #00af00\">0</span>… │\n",
              "│ (<span style=\"color: #0087ff; text-decoration-color: #0087ff\">Dropout</span>)           │                   │            │                   │\n",
              "├─────────────────────┼───────────────────┼────────────┼───────────────────┤\n",
              "│ review_type (<span style=\"color: #0087ff; text-decoration-color: #0087ff\">Dense</span>) │ (<span style=\"color: #00d7ff; text-decoration-color: #00d7ff\">None</span>, <span style=\"color: #00af00; text-decoration-color: #00af00\">1</span>)         │         <span style=\"color: #00af00; text-decoration-color: #00af00\">65</span> │ dropout_174[<span style=\"color: #00af00; text-decoration-color: #00af00\">0</span>][<span style=\"color: #00af00; text-decoration-color: #00af00\">0</span>] │\n",
              "├─────────────────────┼───────────────────┼────────────┼───────────────────┤\n",
              "│ review_score        │ (<span style=\"color: #00d7ff; text-decoration-color: #00d7ff\">None</span>, <span style=\"color: #00af00; text-decoration-color: #00af00\">1</span>)         │         <span style=\"color: #00af00; text-decoration-color: #00af00\">65</span> │ dropout_174[<span style=\"color: #00af00; text-decoration-color: #00af00\">0</span>][<span style=\"color: #00af00; text-decoration-color: #00af00\">0</span>] │\n",
              "│ (<span style=\"color: #0087ff; text-decoration-color: #0087ff\">Dense</span>)             │                   │            │                   │\n",
              "└─────────────────────┴───────────────────┴────────────┴───────────────────┘\n",
              "</pre>\n"
            ],
            "text/plain": [
              "┏━━━━━━━━━━━━━━━━━━━━━┳━━━━━━━━━━━━━━━━━━━┳━━━━━━━━━━━━┳━━━━━━━━━━━━━━━━━━━┓\n",
              "┃\u001b[1m \u001b[0m\u001b[1mLayer (type)       \u001b[0m\u001b[1m \u001b[0m┃\u001b[1m \u001b[0m\u001b[1mOutput Shape     \u001b[0m\u001b[1m \u001b[0m┃\u001b[1m \u001b[0m\u001b[1m   Param #\u001b[0m\u001b[1m \u001b[0m┃\u001b[1m \u001b[0m\u001b[1mConnected to     \u001b[0m\u001b[1m \u001b[0m┃\n",
              "┡━━━━━━━━━━━━━━━━━━━━━╇━━━━━━━━━━━━━━━━━━━╇━━━━━━━━━━━━╇━━━━━━━━━━━━━━━━━━━┩\n",
              "│ text_input          │ (\u001b[38;5;45mNone\u001b[0m, \u001b[38;5;34m200\u001b[0m)       │          \u001b[38;5;34m0\u001b[0m │ -                 │\n",
              "│ (\u001b[38;5;33mInputLayer\u001b[0m)        │                   │            │                   │\n",
              "├─────────────────────┼───────────────────┼────────────┼───────────────────┤\n",
              "│ embedding_119       │ (\u001b[38;5;45mNone\u001b[0m, \u001b[38;5;34m200\u001b[0m, \u001b[38;5;34m50\u001b[0m)   │    \u001b[38;5;34m259,700\u001b[0m │ text_input[\u001b[38;5;34m0\u001b[0m][\u001b[38;5;34m0\u001b[0m]  │\n",
              "│ (\u001b[38;5;33mEmbedding\u001b[0m)         │                   │            │                   │\n",
              "├─────────────────────┼───────────────────┼────────────┼───────────────────┤\n",
              "│ flatten_119         │ (\u001b[38;5;45mNone\u001b[0m, \u001b[38;5;34m10000\u001b[0m)     │          \u001b[38;5;34m0\u001b[0m │ embedding_119[\u001b[38;5;34m0\u001b[0m]… │\n",
              "│ (\u001b[38;5;33mFlatten\u001b[0m)           │                   │            │                   │\n",
              "├─────────────────────┼───────────────────┼────────────┼───────────────────┤\n",
              "│ struct_input        │ (\u001b[38;5;45mNone\u001b[0m, \u001b[38;5;34m1003\u001b[0m)      │          \u001b[38;5;34m0\u001b[0m │ -                 │\n",
              "│ (\u001b[38;5;33mInputLayer\u001b[0m)        │                   │            │                   │\n",
              "├─────────────────────┼───────────────────┼────────────┼───────────────────┤\n",
              "│ concatenate_119     │ (\u001b[38;5;45mNone\u001b[0m, \u001b[38;5;34m11003\u001b[0m)     │          \u001b[38;5;34m0\u001b[0m │ flatten_119[\u001b[38;5;34m0\u001b[0m][\u001b[38;5;34m0\u001b[0m… │\n",
              "│ (\u001b[38;5;33mConcatenate\u001b[0m)       │                   │            │ struct_input[\u001b[38;5;34m0\u001b[0m][\u001b[38;5;34m…\u001b[0m │\n",
              "├─────────────────────┼───────────────────┼────────────┼───────────────────┤\n",
              "│ dense_174 (\u001b[38;5;33mDense\u001b[0m)   │ (\u001b[38;5;45mNone\u001b[0m, \u001b[38;5;34m64\u001b[0m)        │    \u001b[38;5;34m704,256\u001b[0m │ concatenate_119[\u001b[38;5;34m…\u001b[0m │\n",
              "├─────────────────────┼───────────────────┼────────────┼───────────────────┤\n",
              "│ batch_normalizatio… │ (\u001b[38;5;45mNone\u001b[0m, \u001b[38;5;34m64\u001b[0m)        │        \u001b[38;5;34m256\u001b[0m │ dense_174[\u001b[38;5;34m0\u001b[0m][\u001b[38;5;34m0\u001b[0m]   │\n",
              "│ (\u001b[38;5;33mBatchNormalizatio…\u001b[0m │                   │            │                   │\n",
              "├─────────────────────┼───────────────────┼────────────┼───────────────────┤\n",
              "│ activation_174      │ (\u001b[38;5;45mNone\u001b[0m, \u001b[38;5;34m64\u001b[0m)        │          \u001b[38;5;34m0\u001b[0m │ batch_normalizat… │\n",
              "│ (\u001b[38;5;33mActivation\u001b[0m)        │                   │            │                   │\n",
              "├─────────────────────┼───────────────────┼────────────┼───────────────────┤\n",
              "│ dropout_174         │ (\u001b[38;5;45mNone\u001b[0m, \u001b[38;5;34m64\u001b[0m)        │          \u001b[38;5;34m0\u001b[0m │ activation_174[\u001b[38;5;34m0\u001b[0m… │\n",
              "│ (\u001b[38;5;33mDropout\u001b[0m)           │                   │            │                   │\n",
              "├─────────────────────┼───────────────────┼────────────┼───────────────────┤\n",
              "│ review_type (\u001b[38;5;33mDense\u001b[0m) │ (\u001b[38;5;45mNone\u001b[0m, \u001b[38;5;34m1\u001b[0m)         │         \u001b[38;5;34m65\u001b[0m │ dropout_174[\u001b[38;5;34m0\u001b[0m][\u001b[38;5;34m0\u001b[0m] │\n",
              "├─────────────────────┼───────────────────┼────────────┼───────────────────┤\n",
              "│ review_score        │ (\u001b[38;5;45mNone\u001b[0m, \u001b[38;5;34m1\u001b[0m)         │         \u001b[38;5;34m65\u001b[0m │ dropout_174[\u001b[38;5;34m0\u001b[0m][\u001b[38;5;34m0\u001b[0m] │\n",
              "│ (\u001b[38;5;33mDense\u001b[0m)             │                   │            │                   │\n",
              "└─────────────────────┴───────────────────┴────────────┴───────────────────┘\n"
            ]
          },
          "metadata": {},
          "output_type": "display_data"
        },
        {
          "data": {
            "text/html": [
              "<pre style=\"white-space:pre;overflow-x:auto;line-height:normal;font-family:Menlo,'DejaVu Sans Mono',consolas,'Courier New',monospace\"><span style=\"font-weight: bold\"> Total params: </span><span style=\"color: #00af00; text-decoration-color: #00af00\">964,342</span> (3.68 MB)\n",
              "</pre>\n"
            ],
            "text/plain": [
              "\u001b[1m Total params: \u001b[0m\u001b[38;5;34m964,342\u001b[0m (3.68 MB)\n"
            ]
          },
          "metadata": {},
          "output_type": "display_data"
        },
        {
          "data": {
            "text/html": [
              "<pre style=\"white-space:pre;overflow-x:auto;line-height:normal;font-family:Menlo,'DejaVu Sans Mono',consolas,'Courier New',monospace\"><span style=\"font-weight: bold\"> Trainable params: </span><span style=\"color: #00af00; text-decoration-color: #00af00\">964,214</span> (3.68 MB)\n",
              "</pre>\n"
            ],
            "text/plain": [
              "\u001b[1m Trainable params: \u001b[0m\u001b[38;5;34m964,214\u001b[0m (3.68 MB)\n"
            ]
          },
          "metadata": {},
          "output_type": "display_data"
        },
        {
          "data": {
            "text/html": [
              "<pre style=\"white-space:pre;overflow-x:auto;line-height:normal;font-family:Menlo,'DejaVu Sans Mono',consolas,'Courier New',monospace\"><span style=\"font-weight: bold\"> Non-trainable params: </span><span style=\"color: #00af00; text-decoration-color: #00af00\">128</span> (512.00 B)\n",
              "</pre>\n"
            ],
            "text/plain": [
              "\u001b[1m Non-trainable params: \u001b[0m\u001b[38;5;34m128\u001b[0m (512.00 B)\n"
            ]
          },
          "metadata": {},
          "output_type": "display_data"
        }
      ],
      "source": [
        "build_model().summary()"
      ]
    },
    {
      "cell_type": "markdown",
      "metadata": {
        "id": "MTbh_3E52m_k"
      },
      "source": [
        "## Hyperparameters Optimization"
      ]
    },
    {
      "cell_type": "markdown",
      "metadata": {
        "id": "s3mQkQzUSGiq"
      },
      "source": [
        "### Hyperparameter tuning\n",
        "The hyperparameters I will tune are:\n",
        "*   Learning Rate\n",
        "*   Batch Size\n",
        "*   Dropout rate\n",
        "*   N of hidden layers\n",
        "*   Training epochs\n",
        "\n",
        "\n",
        "To select the model with the best hyperparameters I will train the possible models using only 5 epochs to make it faster. After selecting the best model I will also select the optimal number of epochs.\n"
      ]
    },
    {
      "cell_type": "markdown",
      "metadata": {
        "id": "uQm9OblTv0Gt"
      },
      "source": [
        "## Important:\n",
        "for the dropout rate I will only use one value (0.3) to reduce the total time it takes to run the cross validation. If time was not a problem more values could be added, both for the dropout rate and for the other hyperparameters."
      ]
    },
    {
      "cell_type": "markdown",
      "metadata": {
        "id": "KDDhZQPZf8d7"
      },
      "source": [
        "# Model Evaluation (6)\n",
        "\n",
        "As written in the exam I would use a stratified k-fold cross validation to select the best hyperparameters.\n",
        "After selecting the best configuration I would evaluate the performance of the final model on the test set, using Accuracy for 'Review_type' and MSE for 'Review_score'."
      ]
    },
    {
      "cell_type": "markdown",
      "metadata": {
        "id": "ORwvSdRAySHT"
      },
      "source": [
        "*Total time to run cv: around 4 minutes*"
      ]
    },
    {
      "cell_type": "code",
      "execution_count": 132,
      "metadata": {
        "colab": {
          "base_uri": "https://localhost:8080/"
        },
        "id": "LGLL1GYEBk_H",
        "outputId": "ddccab04-dd98-47f1-81a5-cd57a7afdf29"
      },
      "outputs": [
        {
          "name": "stdout",
          "output_type": "stream",
          "text": [
            "\n",
            "Training with learning_rate=0.01, batch_size=32, dropout_rate=0.3, num_dense_layers=1\n",
            "Average Val Accuracy: 0.7762, Average Val MSE: 0.1246\n",
            "\n",
            "Training with learning_rate=0.01, batch_size=32, dropout_rate=0.3, num_dense_layers=2\n",
            "Average Val Accuracy: 0.6573, Average Val MSE: 0.1014\n",
            "\n",
            "Training with learning_rate=0.01, batch_size=64, dropout_rate=0.3, num_dense_layers=1\n",
            "Average Val Accuracy: 0.7327, Average Val MSE: 0.1521\n",
            "\n",
            "Training with learning_rate=0.01, batch_size=64, dropout_rate=0.3, num_dense_layers=2\n",
            "Average Val Accuracy: 0.7903, Average Val MSE: 0.1253\n",
            "\n",
            "Training with learning_rate=0.001, batch_size=32, dropout_rate=0.3, num_dense_layers=1\n",
            "Average Val Accuracy: 0.8470, Average Val MSE: 0.0638\n",
            "\n",
            "Training with learning_rate=0.001, batch_size=32, dropout_rate=0.3, num_dense_layers=2\n",
            "Average Val Accuracy: 0.7058, Average Val MSE: 0.0553\n",
            "\n",
            "Training with learning_rate=0.001, batch_size=64, dropout_rate=0.3, num_dense_layers=1\n",
            "Average Val Accuracy: 0.8493, Average Val MSE: 0.0675\n",
            "\n",
            "Training with learning_rate=0.001, batch_size=64, dropout_rate=0.3, num_dense_layers=2\n",
            "Average Val Accuracy: 0.8371, Average Val MSE: 0.0498\n",
            "\n",
            "Best configuration: {'learning_rate': 0.001, 'batch_size': 64, 'dropout_rate': 0.3, 'num_dense_layers': 1}\n",
            "Best average validation accuracy: 0.8493\n",
            "Best average validation MSE: 0.0498\n"
          ]
        }
      ],
      "source": [
        "# Hyperparameter grid\n",
        "param_grid = {\n",
        "    'learning_rate': [0.01, 0.001],\n",
        "    'batch_size': [32, 64],\n",
        "    'dropout_rate': [0.3],  # 0.5 another possible value, skipped to reduce the time it takes to run this cell\n",
        "    'num_dense_layers': [1, 2]\n",
        "    }\n",
        "\n",
        "kf = StratifiedKFold(n_splits=3, shuffle=True, random_state=42)  #Defining the k-fold cross validation\n",
        "best_val_acc = 0      #storing the best accuracy on the validation set\n",
        "best_config = None    # storing the best hyperparameters configuration\n",
        "\n",
        "# Grid search with cross-validation\n",
        "for learning_rate, batch_size, dropout_rate, num_dense_layers in product(\n",
        "    param_grid['learning_rate'],\n",
        "    param_grid['batch_size'],\n",
        "    param_grid['dropout_rate'],\n",
        "    param_grid['num_dense_layers']):\n",
        "\n",
        "    print(f\"\\nTraining with learning_rate={learning_rate}, batch_size={batch_size}, dropout_rate={dropout_rate}, num_dense_layers={num_dense_layers}\")\n",
        "\n",
        "    # Store validation metrics for each fold\n",
        "    fold_accuracies = []\n",
        "    fold_mses = []\n",
        "\n",
        "    for train_idx, val_idx in kf.split(X_text_train_full, y_type_train_full):  # Create training and validation sets for each fold\n",
        "        X_text_train, X_text_val = X_text_train_full[train_idx], X_text_train_full[val_idx]\n",
        "        X_struct_train, X_struct_val = X_struct_train_full[train_idx], X_struct_train_full[val_idx]\n",
        "        y_type_train, y_type_val = y_type_train_full[train_idx], y_type_train_full[val_idx]\n",
        "        y_score_train, y_score_val = y_score_train_full[train_idx], y_score_train_full[val_idx]\n",
        "\n",
        "        model = build_model(  # Building the model using the current configuration\n",
        "            learning_rate=learning_rate,\n",
        "            dropout_rate=dropout_rate,\n",
        "            num_dense_layers=num_dense_layers,\n",
        "\n",
        "        )\n",
        "\n",
        "        history = model.fit(  # Train the model on the current fold, with only 5 epochs to peed up the process\n",
        "            [X_text_train, X_struct_train],\n",
        "            {'review_type': y_type_train, 'review_score': y_score_train},\n",
        "            validation_data=([X_text_val, X_struct_val],\n",
        "                             {'review_type': y_type_val, 'review_score': y_score_val}),\n",
        "            epochs=5,\n",
        "            batch_size=batch_size,\n",
        "            verbose=0\n",
        "        )\n",
        "\n",
        "        acc = history.history['val_review_type_accuracy'][-1] # Validation accuracy of last epoch\n",
        "        mse = history.history['val_review_score_mse'][-1] # Validation MSE of last epoch\n",
        "        fold_accuracies.append(acc)\n",
        "        fold_mses.append(mse)\n",
        "\n",
        "    # Compute the average metrics\n",
        "    avg_acc = np.mean(fold_accuracies)\n",
        "    avg_mse = np.mean(fold_mses)\n",
        "    print(f\"Average Val Accuracy: {avg_acc:.4f}, Average Val MSE: {avg_mse:.4f}\")\n",
        "\n",
        "    if avg_acc > best_val_acc: # Update the best configuration if another gets better results\n",
        "        best_val_acc = avg_acc\n",
        "        best_config = {\n",
        "            'learning_rate': learning_rate,\n",
        "            'batch_size': batch_size,\n",
        "            'dropout_rate': dropout_rate,\n",
        "            'num_dense_layers': num_dense_layers\n",
        "        }\n",
        "# Printing the best configuration and its metrics\n",
        "print(\"\\nBest configuration:\", best_config)\n",
        "print(f\"Best average validation accuracy: {best_val_acc:.4f}\")\n",
        "print(f\"Best average validation MSE: {avg_mse:.4f}\")"
      ]
    },
    {
      "cell_type": "markdown",
      "metadata": {
        "id": "V_Lw6n-iIFMe"
      },
      "source": [
        "Now we can train the best model with a higher number of epochs and using the whole training set."
      ]
    },
    {
      "cell_type": "code",
      "execution_count": 133,
      "metadata": {
        "colab": {
          "base_uri": "https://localhost:8080/"
        },
        "id": "IPBRnO2Dc0xh",
        "outputId": "b80f2bae-ba84-4130-949f-e8d8876e4fab"
      },
      "outputs": [
        {
          "name": "stdout",
          "output_type": "stream",
          "text": [
            "Epoch 1/20\n",
            "\u001b[1m35/35\u001b[0m \u001b[32m━━━━━━━━━━━━━━━━━━━━\u001b[0m\u001b[37m\u001b[0m \u001b[1m5s\u001b[0m 38ms/step - loss: 0.2712 - review_score_loss: 0.0675 - review_score_mse: 0.0676 - review_type_accuracy: 0.7978 - review_type_loss: 0.4750\n",
            "Epoch 2/20\n",
            "\u001b[1m35/35\u001b[0m \u001b[32m━━━━━━━━━━━━━━━━━━━━\u001b[0m\u001b[37m\u001b[0m \u001b[1m0s\u001b[0m 4ms/step - loss: 0.1475 - review_score_loss: 0.0445 - review_score_mse: 0.0445 - review_type_accuracy: 0.9057 - review_type_loss: 0.2504\n",
            "Epoch 3/20\n",
            "\u001b[1m35/35\u001b[0m \u001b[32m━━━━━━━━━━━━━━━━━━━━\u001b[0m\u001b[37m\u001b[0m \u001b[1m0s\u001b[0m 4ms/step - loss: 0.0947 - review_score_loss: 0.0356 - review_score_mse: 0.0356 - review_type_accuracy: 0.9464 - review_type_loss: 0.1539\n",
            "Epoch 4/20\n",
            "\u001b[1m35/35\u001b[0m \u001b[32m━━━━━━━━━━━━━━━━━━━━\u001b[0m\u001b[37m\u001b[0m \u001b[1m0s\u001b[0m 4ms/step - loss: 0.0667 - review_score_loss: 0.0283 - review_score_mse: 0.0283 - review_type_accuracy: 0.9662 - review_type_loss: 0.1051\n",
            "Epoch 5/20\n",
            "\u001b[1m35/35\u001b[0m \u001b[32m━━━━━━━━━━━━━━━━━━━━\u001b[0m\u001b[37m\u001b[0m \u001b[1m0s\u001b[0m 4ms/step - loss: 0.0371 - review_score_loss: 0.0227 - review_score_mse: 0.0227 - review_type_accuracy: 0.9880 - review_type_loss: 0.0516\n",
            "Epoch 6/20\n",
            "\u001b[1m35/35\u001b[0m \u001b[32m━━━━━━━━━━━━━━━━━━━━\u001b[0m\u001b[37m\u001b[0m \u001b[1m0s\u001b[0m 4ms/step - loss: 0.0292 - review_score_loss: 0.0203 - review_score_mse: 0.0203 - review_type_accuracy: 0.9913 - review_type_loss: 0.0381\n",
            "Epoch 7/20\n",
            "\u001b[1m35/35\u001b[0m \u001b[32m━━━━━━━━━━━━━━━━━━━━\u001b[0m\u001b[37m\u001b[0m \u001b[1m0s\u001b[0m 4ms/step - loss: 0.0230 - review_score_loss: 0.0178 - review_score_mse: 0.0178 - review_type_accuracy: 0.9948 - review_type_loss: 0.0281\n",
            "Epoch 8/20\n",
            "\u001b[1m35/35\u001b[0m \u001b[32m━━━━━━━━━━━━━━━━━━━━\u001b[0m\u001b[37m\u001b[0m \u001b[1m0s\u001b[0m 5ms/step - loss: 0.0199 - review_score_loss: 0.0151 - review_score_mse: 0.0151 - review_type_accuracy: 0.9947 - review_type_loss: 0.0247\n",
            "Epoch 9/20\n",
            "\u001b[1m35/35\u001b[0m \u001b[32m━━━━━━━━━━━━━━━━━━━━\u001b[0m\u001b[37m\u001b[0m \u001b[1m0s\u001b[0m 4ms/step - loss: 0.0167 - review_score_loss: 0.0155 - review_score_mse: 0.0155 - review_type_accuracy: 0.9982 - review_type_loss: 0.0179\n",
            "Epoch 10/20\n",
            "\u001b[1m35/35\u001b[0m \u001b[32m━━━━━━━━━━━━━━━━━━━━\u001b[0m\u001b[37m\u001b[0m \u001b[1m0s\u001b[0m 4ms/step - loss: 0.0113 - review_score_loss: 0.0128 - review_score_mse: 0.0128 - review_type_accuracy: 0.9992 - review_type_loss: 0.0097\n",
            "Epoch 11/20\n",
            "\u001b[1m35/35\u001b[0m \u001b[32m━━━━━━━━━━━━━━━━━━━━\u001b[0m\u001b[37m\u001b[0m \u001b[1m0s\u001b[0m 4ms/step - loss: 0.0115 - review_score_loss: 0.0126 - review_score_mse: 0.0126 - review_type_accuracy: 1.0000 - review_type_loss: 0.0104\n",
            "Epoch 12/20\n",
            "\u001b[1m35/35\u001b[0m \u001b[32m━━━━━━━━━━━━━━━━━━━━\u001b[0m\u001b[37m\u001b[0m \u001b[1m0s\u001b[0m 4ms/step - loss: 0.0097 - review_score_loss: 0.0106 - review_score_mse: 0.0106 - review_type_accuracy: 0.9985 - review_type_loss: 0.0088\n",
            "Epoch 13/20\n",
            "\u001b[1m35/35\u001b[0m \u001b[32m━━━━━━━━━━━━━━━━━━━━\u001b[0m\u001b[37m\u001b[0m \u001b[1m0s\u001b[0m 4ms/step - loss: 0.0083 - review_score_loss: 0.0099 - review_score_mse: 0.0099 - review_type_accuracy: 0.9993 - review_type_loss: 0.0067\n",
            "Epoch 14/20\n",
            "\u001b[1m35/35\u001b[0m \u001b[32m━━━━━━━━━━━━━━━━━━━━\u001b[0m\u001b[37m\u001b[0m \u001b[1m0s\u001b[0m 4ms/step - loss: 0.0074 - review_score_loss: 0.0094 - review_score_mse: 0.0094 - review_type_accuracy: 1.0000 - review_type_loss: 0.0054\n",
            "Epoch 15/20\n",
            "\u001b[1m35/35\u001b[0m \u001b[32m━━━━━━━━━━━━━━━━━━━━\u001b[0m\u001b[37m\u001b[0m \u001b[1m0s\u001b[0m 4ms/step - loss: 0.0063 - review_score_loss: 0.0085 - review_score_mse: 0.0085 - review_type_accuracy: 1.0000 - review_type_loss: 0.0041\n",
            "Epoch 16/20\n",
            "\u001b[1m35/35\u001b[0m \u001b[32m━━━━━━━━━━━━━━━━━━━━\u001b[0m\u001b[37m\u001b[0m \u001b[1m0s\u001b[0m 4ms/step - loss: 0.0060 - review_score_loss: 0.0080 - review_score_mse: 0.0080 - review_type_accuracy: 1.0000 - review_type_loss: 0.0040\n",
            "Epoch 17/20\n",
            "\u001b[1m35/35\u001b[0m \u001b[32m━━━━━━━━━━━━━━━━━━━━\u001b[0m\u001b[37m\u001b[0m \u001b[1m0s\u001b[0m 5ms/step - loss: 0.0051 - review_score_loss: 0.0067 - review_score_mse: 0.0067 - review_type_accuracy: 1.0000 - review_type_loss: 0.0035\n",
            "Epoch 18/20\n",
            "\u001b[1m35/35\u001b[0m \u001b[32m━━━━━━━━━━━━━━━━━━━━\u001b[0m\u001b[37m\u001b[0m \u001b[1m0s\u001b[0m 4ms/step - loss: 0.0058 - review_score_loss: 0.0076 - review_score_mse: 0.0076 - review_type_accuracy: 0.9999 - review_type_loss: 0.0040\n",
            "Epoch 19/20\n",
            "\u001b[1m35/35\u001b[0m \u001b[32m━━━━━━━━━━━━━━━━━━━━\u001b[0m\u001b[37m\u001b[0m \u001b[1m0s\u001b[0m 4ms/step - loss: 0.0054 - review_score_loss: 0.0073 - review_score_mse: 0.0073 - review_type_accuracy: 1.0000 - review_type_loss: 0.0035\n",
            "Epoch 20/20\n",
            "\u001b[1m35/35\u001b[0m \u001b[32m━━━━━━━━━━━━━━━━━━━━\u001b[0m\u001b[37m\u001b[0m \u001b[1m0s\u001b[0m 4ms/step - loss: 0.0045 - review_score_loss: 0.0065 - review_score_mse: 0.0065 - review_type_accuracy: 1.0000 - review_type_loss: 0.0025\n"
          ]
        },
        {
          "data": {
            "text/plain": [
              "<keras.src.callbacks.history.History at 0x7ba6db470050>"
            ]
          },
          "execution_count": 133,
          "metadata": {},
          "output_type": "execute_result"
        }
      ],
      "source": [
        "# Use the best hyperparameters configuration to create the final model\n",
        "final_model = build_model(\n",
        "    learning_rate=best_config['learning_rate'],\n",
        "    dropout_rate=best_config['dropout_rate'],\n",
        "    num_dense_layers=best_config['num_dense_layers']\n",
        ")\n",
        "\n",
        "#Train the final model with an higher number of epochs, using the whole training data\n",
        "final_model.fit(\n",
        "    [X_text_train_full, X_struct_train_full],\n",
        "    {'review_type': y_type_train_full, 'review_score': y_score_train_full},\n",
        "    epochs=20,\n",
        "    batch_size=best_config['batch_size'],\n",
        "    verbose=1\n",
        ")"
      ]
    },
    {
      "cell_type": "markdown",
      "metadata": {
        "id": "svi61binga61"
      },
      "source": [
        "As it can be seen, around the 15th epoch the model loss and accuracy start oscillating, meaning that 15 epochs should be a good stopping point for the training."
      ]
    },
    {
      "cell_type": "markdown",
      "metadata": {
        "id": "zOw6BBKCqeQh"
      },
      "source": [
        "Now we evaluate the performance of the model on the test set, which represents the unseen data."
      ]
    },
    {
      "cell_type": "code",
      "execution_count": 134,
      "metadata": {
        "colab": {
          "base_uri": "https://localhost:8080/"
        },
        "id": "foEF1AJSW7hk",
        "outputId": "dcf801cb-1c57-46c5-86fe-c4578efd90a5"
      },
      "outputs": [
        {
          "name": "stdout",
          "output_type": "stream",
          "text": [
            "Final Review Type Accuracy: 0.8240\n",
            "Final Review Score MSE: 0.1023\n"
          ]
        }
      ],
      "source": [
        "# Evaluate the best model performance on unseen data (test set)\n",
        "results = final_model.evaluate(\n",
        "    [X_text_test, X_struct_test], # Test inputs\n",
        "    {'review_type': y_type_test, 'review_score': y_score_test}, # True Labels\n",
        "    verbose=0,\n",
        "    return_dict=True\n",
        ")\n",
        "\n",
        "review_type_accuracy = results['review_type_accuracy'] # Binary classification accuracy\n",
        "review_score_mse = results['review_score_mse']  # Regression MSE (on [0, 1] scale)\n",
        "\n",
        "print(f\"Final Review Type Accuracy: {review_type_accuracy:.4f}\")\n",
        "print(f\"Final Review Score MSE: {review_score_mse:.4f}\")\n"
      ]
    },
    {
      "cell_type": "markdown",
      "metadata": {
        "id": "4rwNhEimyzT_"
      },
      "source": [
        "For comparison, when training with the full dataset and using more hyperparameters, the final model accuracy on the review type was ~0.94 and the review score MSE was ~0.03."
      ]
    },
    {
      "cell_type": "markdown",
      "metadata": {
        "id": "NKM8NN6ldHME"
      },
      "source": [
        "## Example of outputs"
      ]
    },
    {
      "cell_type": "markdown",
      "metadata": {
        "id": "-vZ3v5krdU2z"
      },
      "source": [
        "Let's check the model performance on the first 3 samples from the test set:"
      ]
    },
    {
      "cell_type": "code",
      "execution_count": 135,
      "metadata": {
        "colab": {
          "base_uri": "https://localhost:8080/"
        },
        "id": "vGZu8bKucI1K",
        "outputId": "6a5de6d9-b120-40cb-931f-9f42c3ad8255"
      },
      "outputs": [
        {
          "name": "stdout",
          "output_type": "stream",
          "text": [
            "\u001b[1m18/18\u001b[0m \u001b[32m━━━━━━━━━━━━━━━━━━━━\u001b[0m\u001b[37m\u001b[0m \u001b[1m1s\u001b[0m 21ms/step\n"
          ]
        }
      ],
      "source": [
        "# Predict both outputs on the test set\n",
        "y_pred_type, y_pred_score = final_model.predict([X_text_test, X_struct_test])\n",
        "\n",
        "# Convert classification predictions to binary (0 or 1)\n",
        "y_pred_type_binary = (y_pred_type > 0.5).astype(int)\n",
        "\n",
        "# Rescale regression predictions back to original [2.5, 10.0] range\n",
        "y_pred_score_rescaled = y_pred_score * (score_max - score_min) + score_min\n",
        "y_score_test_rescaled = y_score_test * (score_max - score_min) + score_min\n"
      ]
    },
    {
      "cell_type": "code",
      "execution_count": 136,
      "metadata": {
        "colab": {
          "base_uri": "https://localhost:8080/"
        },
        "id": "4lvPp5gxcOoA",
        "outputId": "74e92e77-b187-46d6-e2ae-660f86fbcee2"
      },
      "outputs": [
        {
          "name": "stdout",
          "output_type": "stream",
          "text": [
            "Example 1\n",
            "  Predicted Review Type: 0 (Raw: 0.35)\n",
            "  Actual Review Type:    1\n",
            "  Predicted Score:       5.06\n",
            "  Actual Score:          9.60\n",
            "----------------------------------------\n",
            "Example 2\n",
            "  Predicted Review Type: 0 (Raw: 0.00)\n",
            "  Actual Review Type:    0\n",
            "  Predicted Score:       5.26\n",
            "  Actual Score:          4.20\n",
            "----------------------------------------\n",
            "Example 3\n",
            "  Predicted Review Type: 1 (Raw: 0.99)\n",
            "  Actual Review Type:    1\n",
            "  Predicted Score:       6.40\n",
            "  Actual Score:          9.20\n",
            "----------------------------------------\n"
          ]
        }
      ],
      "source": [
        "for i in range(3):\n",
        "    print(f\"Example {i+1}\")\n",
        "    print(f\"  Predicted Review Type: {y_pred_type_binary[i][0]} (Raw: {y_pred_type[i][0]:.2f})\") # Predicted review type. Also shows the raw output of the model\n",
        "    print(f\"  Actual Review Type:    {y_type_test[i]}\") # True review type\n",
        "    print(f\"  Predicted Score:       {y_pred_score_rescaled[i][0]:.2f}\") # Predicted review score\n",
        "    print(f\"  Actual Score:          {y_score_test_rescaled[i]:.2f}\") # True review score\n",
        "    print(\"-\" * 40)\n"
      ]
    }
  ],
  "metadata": {
    "accelerator": "GPU",
    "colab": {
      "gpuType": "T4",
      "provenance": []
    },
    "kernelspec": {
      "display_name": "Python 3",
      "name": "python3"
    },
    "language_info": {
      "name": "python"
    }
  },
  "nbformat": 4,
  "nbformat_minor": 0
}
